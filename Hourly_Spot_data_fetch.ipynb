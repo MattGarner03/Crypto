{
 "cells": [
  {
   "cell_type": "code",
   "execution_count": 1,
   "id": "b46b9396",
   "metadata": {},
   "outputs": [
    {
     "name": "stdout",
     "output_type": "stream",
     "text": [
      "[BTCUSDT] snapshot + full hourly history\n",
      "[BTCUSDT] saved 71669 hourly bars -> data\\spot_top10_hourly\\BTCUSDT\\klines_1h_full_history.csv\n",
      "[ETHUSDT] snapshot + full hourly history\n",
      "[ETHUSDT] saved 71669 hourly bars -> data\\spot_top10_hourly\\ETHUSDT\\klines_1h_full_history.csv\n",
      "[BNBUSDT] snapshot + full hourly history\n",
      "[BNBUSDT] saved 69732 hourly bars -> data\\spot_top10_hourly\\BNBUSDT\\klines_1h_full_history.csv\n",
      "[XRPUSDT] snapshot + full hourly history\n",
      "[XRPUSDT] saved 65465 hourly bars -> data\\spot_top10_hourly\\XRPUSDT\\klines_1h_full_history.csv\n",
      "[SOLUSDT] snapshot + full hourly history\n",
      "[SOLUSDT] saved 45615 hourly bars -> data\\spot_top10_hourly\\SOLUSDT\\klines_1h_full_history.csv\n",
      "[DOGEUSDT] snapshot + full hourly history\n",
      "[DOGEUSDT] saved 55257 hourly bars -> data\\spot_top10_hourly\\DOGEUSDT\\klines_1h_full_history.csv\n",
      "[TRXUSDT] snapshot + full hourly history\n",
      "[TRXUSDT] saved 64550 hourly bars -> data\\spot_top10_hourly\\TRXUSDT\\klines_1h_full_history.csv\n",
      "[ADAUSDT] snapshot + full hourly history\n",
      "[ADAUSDT] saved 65877 hourly bars -> data\\spot_top10_hourly\\ADAUSDT\\klines_1h_full_history.csv\n",
      "[WBTCUSDT] snapshot + full hourly history\n",
      "[WBTCUSDT] saved 21871 hourly bars -> data\\spot_top10_hourly\\WBTCUSDT\\klines_1h_full_history.csv\n",
      "[WLFIUSDT] snapshot + full hourly history\n",
      "[WLFIUSDT] saved 1300 hourly bars -> data\\spot_top10_hourly\\WLFIUSDT\\klines_1h_full_history.csv\n"
     ]
    }
   ],
   "source": [
    "# collect_top10_hourly.py\n",
    "from pathlib import Path\n",
    "\n",
    "from data_pull import (\n",
    "    BinanceData,\n",
    "    top_market_cap_spot_symbols,\n",
    "    collect_spot_market_data,\n",
    "    fetch_full_hourly_klines,\n",
    ")\n",
    "\n",
    "OUTPUT_ROOT = Path(\"data\") / \"spot_top10_hourly\"\n",
    "\n",
    "\n",
    "def main():\n",
    "    client = BinanceData()  # loads BINANCE_API_KEY / BINANCE_API_SECRET from .env if present\n",
    "    symbols = top_market_cap_spot_symbols(quote_asset=\"USDT\", limit=10)\n",
    "    if not symbols:\n",
    "        raise SystemExit(\"No market-cap symbols returned; check connectivity or Binance API status.\")\n",
    "\n",
    "    OUTPUT_ROOT.mkdir(parents=True, exist_ok=True)\n",
    "\n",
    "    for symbol in symbols:\n",
    "        print(f\"[{symbol}] snapshot + full hourly history\")\n",
    "        symbol_dir = OUTPUT_ROOT / symbol\n",
    "        symbol_dir.mkdir(parents=True, exist_ok=True)\n",
    "\n",
    "        # spot snapshot (depth, trades, tickers, 1h klines, exchange info)\n",
    "        collect_spot_market_data(\n",
    "            client,\n",
    "            symbol,\n",
    "            output_root=OUTPUT_ROOT,\n",
    "            depth_limit=500,\n",
    "            trades_limit=1000,\n",
    "            agg_trades_limit=1000,\n",
    "            kline_intervals=[\"1h\"],\n",
    "            kline_limit=1000,\n",
    "            open_interest_period=\"1h\",\n",
    "            open_interest_limit=0,  # skip futures extras; keep it spot-only\n",
    "        )\n",
    "\n",
    "        # full all-time hourly candle history\n",
    "        history = fetch_full_hourly_klines(client, symbol, interval=\"1h\")\n",
    "        if history.empty:\n",
    "            print(f\"[{symbol}] no hourly klines returned\")\n",
    "            continue\n",
    "\n",
    "        history_path = symbol_dir / \"klines_1h_full_history.csv\"\n",
    "        history.to_csv(history_path, index=False)\n",
    "        print(f\"[{symbol}] saved {len(history)} hourly bars -> {history_path}\")\n",
    "\n",
    "\n",
    "if __name__ == \"__main__\":\n",
    "    main()\n"
   ]
  }
 ],
 "metadata": {
  "kernelspec": {
   "display_name": "base",
   "language": "python",
   "name": "python3"
  },
  "language_info": {
   "codemirror_mode": {
    "name": "ipython",
    "version": 3
   },
   "file_extension": ".py",
   "mimetype": "text/x-python",
   "name": "python",
   "nbconvert_exporter": "python",
   "pygments_lexer": "ipython3",
   "version": "3.11.5"
  }
 },
 "nbformat": 4,
 "nbformat_minor": 5
}
